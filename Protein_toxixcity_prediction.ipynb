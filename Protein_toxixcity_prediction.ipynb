{
  "cells": [
    {
      "cell_type": "markdown",
      "metadata": {
        "id": "view-in-github",
        "colab_type": "text"
      },
      "source": [
        "<a href=\"https://colab.research.google.com/github/faezesarlakifar/Protein-toxicity-prediction/blob/main/Protein_toxixcity_prediction.ipynb\" target=\"_parent\"><img src=\"https://colab.research.google.com/assets/colab-badge.svg\" alt=\"Open In Colab\"/></a>"
      ]
    },
    {
      "cell_type": "markdown",
      "metadata": {
        "id": "NwehxzTzKRTz"
      },
      "source": [
        "# Protein Toxicity Prediction using ProtT5 Embeddings and LightGBM\n",
        "\n",
        "This notebook implements a machine learning pipeline for predicting protein toxicity using ProtT5 embeddings and LightGBM classifier.\n",
        "\n",
        "## Overview\n",
        "- Uses ProtT5 embeddings to represent protein sequences\n",
        "- Implements feature selection using Fisher scores\n",
        "- Trains a LightGBM classifier with hyperparameter optimization\n",
        "- Evaluates model performance using multiple metrics\n",
        "\n",
        "## Requirements\n",
        "- Python 3.x\n",
        "- PyTorch\n",
        "- Transformers\n",
        "- LightGBM\n",
        "- scikit-learn\n",
        "- pandas\n",
        "- numpy\n",
        "- h5py\n",
        "\n",
        "## Data\n",
        "- Input: FASTA files containing protein sequences\n",
        "- Labels: Binary classification (toxic/non-toxic)\n"
      ]
    },
    {
      "cell_type": "markdown",
      "metadata": {
        "id": "qoI-0Omc4Ls7"
      },
      "source": [
        "## The super helpful command of the [ProtTrans repository](https://github.com/agemagician/ProtTrans) is used to extract embeddings from protein sequences in FASTA format. ☕\n",
        "\n"
      ]
    },
    {
      "cell_type": "markdown",
      "metadata": {
        "id": "hQPUebqzKRT1"
      },
      "source": [
        "## Data Preparation and Embedding Extraction"
      ]
    },
    {
      "cell_type": "code",
      "execution_count": null,
      "metadata": {
        "cellView": "form",
        "id": "Xj2-_b-H4d0F"
      },
      "outputs": [],
      "source": [
        "# @title Extract ProtT5 embeddings from positive data in FASTA format\n",
        "\n",
        "input_path = '/content/drive/MyDrive/toxicity-prediction/fasta-files/'\n",
        "\n",
        "input_file = input_path+\"positive.fasta\"\n",
        "\n",
        "!python ProtTrans/Embedding/prott5_embedder.py --input $input_file --output /train_positive/residue_embeddings.h5\n",
        "!python ProtTrans/Embedding/prott5_embedder.py --input $input_file --output /train_positive/protein_embeddings.h5 --per_protein 1"
      ]
    },
    {
      "cell_type": "code",
      "execution_count": null,
      "metadata": {
        "cellView": "form",
        "id": "oXruMTZS5Hnw"
      },
      "outputs": [],
      "source": [
        "# @title Extract ProtT5 embeddings from negative data in FASTA format\n",
        "\n",
        "input_path = '/content/drive/MyDrive/toxicity-prediction/fasta-files/'\n",
        "\n",
        "input_file = input_path+\"negative.fasta\"\n",
        "\n",
        "!python ProtTrans/Embedding/prott5_embedder.py --input $input_file --output /train_negative/residue_embeddings.h5\n",
        "!python ProtTrans/Embedding/prott5_embedder.py --input $input_file --output /train_negative/protein_embeddings.h5 --per_protein 1"
      ]
    },
    {
      "cell_type": "markdown",
      "metadata": {
        "id": "Zd1_H18ZKRT4"
      },
      "source": [
        "## Environment Setup"
      ]
    },
    {
      "cell_type": "code",
      "execution_count": null,
      "metadata": {
        "id": "yyfS1qKo9rCu"
      },
      "outputs": [],
      "source": [
        "#@title Install requirements. { display-mode: \"form\" }\n",
        "# Install requirements\n",
        "!pip install torch transformers sentencepiece h5py lightgbm\n",
        "import warnings\n",
        "warnings.filterwarnings('ignore')"
      ]
    },
    {
      "cell_type": "code",
      "execution_count": null,
      "metadata": {
        "id": "FWiTNuT5cz4-"
      },
      "outputs": [],
      "source": [
        "import torch\n",
        "import numpy as np\n",
        "import pandas as pd\n",
        "import h5py\n",
        "\n",
        "from sklearn.model_selection import GridSearchCV, train_test_split\n",
        "from sklearn.preprocessing import MinMaxScaler\n",
        "\n",
        "import lightgbm\n",
        "from sklearn.metrics import roc_auc_score\n",
        "from sklearn.metrics import accuracy_score, precision_recall_fscore_support\n",
        "from sklearn.feature_selection import f_classif\n",
        "from sklearn.model_selection import cross_validate\n",
        "from sklearn.metrics import recall_score, make_scorer"
      ]
    },
    {
      "cell_type": "code",
      "execution_count": null,
      "metadata": {
        "colab": {
          "base_uri": "https://localhost:8080/"
        },
        "id": "utrtQugPc6D1",
        "outputId": "634e469c-627a-4934-ed51-9b085314f665"
      },
      "outputs": [
        {
          "name": "stdout",
          "output_type": "stream",
          "text": [
            "cuda:0\n"
          ]
        }
      ],
      "source": [
        "device = torch.device('cuda:0' if torch.cuda.is_available() else 'cpu')\n",
        "print(device)"
      ]
    },
    {
      "cell_type": "markdown",
      "metadata": {
        "id": "RSY852_nKRT7"
      },
      "source": [
        "## Data Loading and Preprocessing"
      ]
    },
    {
      "cell_type": "code",
      "execution_count": null,
      "metadata": {
        "id": "mIaMAcciBV4d"
      },
      "outputs": [],
      "source": [
        "# Extract ProtT5 embeddings from positive (toxic) sequences\n",
        "# This generates both residue-level and protein-level embeddings\n",
        "\n",
        "def load_T5_embedding(h5_path, toxin_label):\n",
        "  embedding = []\n",
        "  protein_id = []\n",
        "\n",
        "  emb_file = h5py.File(h5_path, 'r')\n",
        "\n",
        "  for id in list(emb_file.keys()):\n",
        "    embedding.append(torch.from_numpy(emb_file[id][:]))\n",
        "    protein_id.append(id)\n",
        "\n",
        "  columns = ['protein_id', 'embedding']\n",
        "  df = pd.DataFrame(list(zip(protein_id, embedding)), columns=columns)\n",
        "  df['toxin_label'] = toxin_label\n",
        "\n",
        "  return df"
      ]
    },
    {
      "cell_type": "code",
      "execution_count": null,
      "metadata": {
        "id": "hw0bo9PqBj27"
      },
      "outputs": [],
      "source": [
        "T5_POSITIVE_PATH = '/content/drive/MyDrive/university/8th_Semester_Spring2023/Article/final/embedding_data/alternate/positive_alternate_emb_ProtT5.h5'\n",
        "T5_NEGATIVE_PATH = '/content/drive/MyDrive/university/8th_Semester_Spring2023/Article/final/embedding_data/alternate/negative_alternate_emb_ProtT5.h5'\n",
        "\n",
        "positive_t5_df = load_T5_embedding(T5_POSITIVE_PATH, 1)\n",
        "negative_t5_df = load_T5_embedding(T5_NEGATIVE_PATH, 0)"
      ]
    },
    {
      "cell_type": "markdown",
      "metadata": {
        "id": "XXaTDg_NKRT8"
      },
      "source": [
        "## Feature Preprocessing"
      ]
    },
    {
      "cell_type": "code",
      "execution_count": null,
      "metadata": {
        "id": "3Hch9dFeB5g8"
      },
      "outputs": [],
      "source": [
        "t5_df = pd.concat([positive_t5_df, negative_t5_df]).set_index('protein_id')"
      ]
    },
    {
      "cell_type": "code",
      "execution_count": null,
      "metadata": {
        "colab": {
          "base_uri": "https://localhost:8080/",
          "height": 237
        },
        "id": "FVgiqxdlCMPM",
        "outputId": "3ce7aee2-1f5c-4e6f-e110-cbaea313518b"
      },
      "outputs": [
        {
          "data": {
            "application/vnd.google.colaboratory.intrinsic+json": {
              "summary": "{\n  \"name\": \"t5_df\",\n  \"rows\": 3843,\n  \"fields\": [\n    {\n      \"column\": \"protein_id\",\n      \"properties\": {\n        \"dtype\": \"string\",\n        \"num_unique_values\": 3843,\n        \"samples\": [\n          \"P_558\",\n          \"N_834\",\n          \"P_719\"\n        ],\n        \"semantic_type\": \"\",\n        \"description\": \"\"\n      }\n    },\n    {\n      \"column\": \"embedding\",\n      \"properties\": {\n        \"dtype\": \"object\",\n        \"semantic_type\": \"\",\n        \"description\": \"\"\n      }\n    },\n    {\n      \"column\": \"toxin_label\",\n      \"properties\": {\n        \"dtype\": \"number\",\n        \"std\": 0,\n        \"min\": 0,\n        \"max\": 1,\n        \"num_unique_values\": 2,\n        \"samples\": [\n          0,\n          1\n        ],\n        \"semantic_type\": \"\",\n        \"description\": \"\"\n      }\n    }\n  ]\n}",
              "type": "dataframe",
              "variable_name": "t5_df"
            },
            "text/html": [
              "\n",
              "  <div id=\"df-e02100b7-bda7-4df6-a6df-e38397fe46a5\" class=\"colab-df-container\">\n",
              "    <div>\n",
              "<style scoped>\n",
              "    .dataframe tbody tr th:only-of-type {\n",
              "        vertical-align: middle;\n",
              "    }\n",
              "\n",
              "    .dataframe tbody tr th {\n",
              "        vertical-align: top;\n",
              "    }\n",
              "\n",
              "    .dataframe thead th {\n",
              "        text-align: right;\n",
              "    }\n",
              "</style>\n",
              "<table border=\"1\" class=\"dataframe\">\n",
              "  <thead>\n",
              "    <tr style=\"text-align: right;\">\n",
              "      <th></th>\n",
              "      <th>embedding</th>\n",
              "      <th>toxin_label</th>\n",
              "    </tr>\n",
              "    <tr>\n",
              "      <th>protein_id</th>\n",
              "      <th></th>\n",
              "      <th></th>\n",
              "    </tr>\n",
              "  </thead>\n",
              "  <tbody>\n",
              "    <tr>\n",
              "      <th>P_1</th>\n",
              "      <td>[0.5867490350301072, 0.5632674746817872, 0.326...</td>\n",
              "      <td>1</td>\n",
              "    </tr>\n",
              "    <tr>\n",
              "      <th>P_10</th>\n",
              "      <td>[0.3447602492987731, 0.6437145213066595, 0.379...</td>\n",
              "      <td>1</td>\n",
              "    </tr>\n",
              "    <tr>\n",
              "      <th>P_100</th>\n",
              "      <td>[0.4865383439899823, 0.508863055280562, 0.6732...</td>\n",
              "      <td>1</td>\n",
              "    </tr>\n",
              "    <tr>\n",
              "      <th>P_1000</th>\n",
              "      <td>[0.3562618971742902, 0.6768918506364869, 0.492...</td>\n",
              "      <td>1</td>\n",
              "    </tr>\n",
              "    <tr>\n",
              "      <th>P_1001</th>\n",
              "      <td>[0.5892896446339582, 0.4080563325747942, 0.590...</td>\n",
              "      <td>1</td>\n",
              "    </tr>\n",
              "  </tbody>\n",
              "</table>\n",
              "</div>\n",
              "    <div class=\"colab-df-buttons\">\n",
              "\n",
              "  <div class=\"colab-df-container\">\n",
              "    <button class=\"colab-df-convert\" onclick=\"convertToInteractive('df-e02100b7-bda7-4df6-a6df-e38397fe46a5')\"\n",
              "            title=\"Convert this dataframe to an interactive table.\"\n",
              "            style=\"display:none;\">\n",
              "\n",
              "  <svg xmlns=\"http://www.w3.org/2000/svg\" height=\"24px\" viewBox=\"0 -960 960 960\">\n",
              "    <path d=\"M120-120v-720h720v720H120Zm60-500h600v-160H180v160Zm220 220h160v-160H400v160Zm0 220h160v-160H400v160ZM180-400h160v-160H180v160Zm440 0h160v-160H620v160ZM180-180h160v-160H180v160Zm440 0h160v-160H620v160Z\"/>\n",
              "  </svg>\n",
              "    </button>\n",
              "\n",
              "  <style>\n",
              "    .colab-df-container {\n",
              "      display:flex;\n",
              "      gap: 12px;\n",
              "    }\n",
              "\n",
              "    .colab-df-convert {\n",
              "      background-color: #E8F0FE;\n",
              "      border: none;\n",
              "      border-radius: 50%;\n",
              "      cursor: pointer;\n",
              "      display: none;\n",
              "      fill: #1967D2;\n",
              "      height: 32px;\n",
              "      padding: 0 0 0 0;\n",
              "      width: 32px;\n",
              "    }\n",
              "\n",
              "    .colab-df-convert:hover {\n",
              "      background-color: #E2EBFA;\n",
              "      box-shadow: 0px 1px 2px rgba(60, 64, 67, 0.3), 0px 1px 3px 1px rgba(60, 64, 67, 0.15);\n",
              "      fill: #174EA6;\n",
              "    }\n",
              "\n",
              "    .colab-df-buttons div {\n",
              "      margin-bottom: 4px;\n",
              "    }\n",
              "\n",
              "    [theme=dark] .colab-df-convert {\n",
              "      background-color: #3B4455;\n",
              "      fill: #D2E3FC;\n",
              "    }\n",
              "\n",
              "    [theme=dark] .colab-df-convert:hover {\n",
              "      background-color: #434B5C;\n",
              "      box-shadow: 0px 1px 3px 1px rgba(0, 0, 0, 0.15);\n",
              "      filter: drop-shadow(0px 1px 2px rgba(0, 0, 0, 0.3));\n",
              "      fill: #FFFFFF;\n",
              "    }\n",
              "  </style>\n",
              "\n",
              "    <script>\n",
              "      const buttonEl =\n",
              "        document.querySelector('#df-e02100b7-bda7-4df6-a6df-e38397fe46a5 button.colab-df-convert');\n",
              "      buttonEl.style.display =\n",
              "        google.colab.kernel.accessAllowed ? 'block' : 'none';\n",
              "\n",
              "      async function convertToInteractive(key) {\n",
              "        const element = document.querySelector('#df-e02100b7-bda7-4df6-a6df-e38397fe46a5');\n",
              "        const dataTable =\n",
              "          await google.colab.kernel.invokeFunction('convertToInteractive',\n",
              "                                                    [key], {});\n",
              "        if (!dataTable) return;\n",
              "\n",
              "        const docLinkHtml = 'Like what you see? Visit the ' +\n",
              "          '<a target=\"_blank\" href=https://colab.research.google.com/notebooks/data_table.ipynb>data table notebook</a>'\n",
              "          + ' to learn more about interactive tables.';\n",
              "        element.innerHTML = '';\n",
              "        dataTable['output_type'] = 'display_data';\n",
              "        await google.colab.output.renderOutput(dataTable, element);\n",
              "        const docLink = document.createElement('div');\n",
              "        docLink.innerHTML = docLinkHtml;\n",
              "        element.appendChild(docLink);\n",
              "      }\n",
              "    </script>\n",
              "  </div>\n",
              "\n",
              "\n",
              "<div id=\"df-f25e5bfa-9c6a-4bda-87d8-e2c5198e3acf\">\n",
              "  <button class=\"colab-df-quickchart\" onclick=\"quickchart('df-f25e5bfa-9c6a-4bda-87d8-e2c5198e3acf')\"\n",
              "            title=\"Suggest charts\"\n",
              "            style=\"display:none;\">\n",
              "\n",
              "<svg xmlns=\"http://www.w3.org/2000/svg\" height=\"24px\"viewBox=\"0 0 24 24\"\n",
              "     width=\"24px\">\n",
              "    <g>\n",
              "        <path d=\"M19 3H5c-1.1 0-2 .9-2 2v14c0 1.1.9 2 2 2h14c1.1 0 2-.9 2-2V5c0-1.1-.9-2-2-2zM9 17H7v-7h2v7zm4 0h-2V7h2v10zm4 0h-2v-4h2v4z\"/>\n",
              "    </g>\n",
              "</svg>\n",
              "  </button>\n",
              "\n",
              "<style>\n",
              "  .colab-df-quickchart {\n",
              "      --bg-color: #E8F0FE;\n",
              "      --fill-color: #1967D2;\n",
              "      --hover-bg-color: #E2EBFA;\n",
              "      --hover-fill-color: #174EA6;\n",
              "      --disabled-fill-color: #AAA;\n",
              "      --disabled-bg-color: #DDD;\n",
              "  }\n",
              "\n",
              "  [theme=dark] .colab-df-quickchart {\n",
              "      --bg-color: #3B4455;\n",
              "      --fill-color: #D2E3FC;\n",
              "      --hover-bg-color: #434B5C;\n",
              "      --hover-fill-color: #FFFFFF;\n",
              "      --disabled-bg-color: #3B4455;\n",
              "      --disabled-fill-color: #666;\n",
              "  }\n",
              "\n",
              "  .colab-df-quickchart {\n",
              "    background-color: var(--bg-color);\n",
              "    border: none;\n",
              "    border-radius: 50%;\n",
              "    cursor: pointer;\n",
              "    display: none;\n",
              "    fill: var(--fill-color);\n",
              "    height: 32px;\n",
              "    padding: 0;\n",
              "    width: 32px;\n",
              "  }\n",
              "\n",
              "  .colab-df-quickchart:hover {\n",
              "    background-color: var(--hover-bg-color);\n",
              "    box-shadow: 0 1px 2px rgba(60, 64, 67, 0.3), 0 1px 3px 1px rgba(60, 64, 67, 0.15);\n",
              "    fill: var(--button-hover-fill-color);\n",
              "  }\n",
              "\n",
              "  .colab-df-quickchart-complete:disabled,\n",
              "  .colab-df-quickchart-complete:disabled:hover {\n",
              "    background-color: var(--disabled-bg-color);\n",
              "    fill: var(--disabled-fill-color);\n",
              "    box-shadow: none;\n",
              "  }\n",
              "\n",
              "  .colab-df-spinner {\n",
              "    border: 2px solid var(--fill-color);\n",
              "    border-color: transparent;\n",
              "    border-bottom-color: var(--fill-color);\n",
              "    animation:\n",
              "      spin 1s steps(1) infinite;\n",
              "  }\n",
              "\n",
              "  @keyframes spin {\n",
              "    0% {\n",
              "      border-color: transparent;\n",
              "      border-bottom-color: var(--fill-color);\n",
              "      border-left-color: var(--fill-color);\n",
              "    }\n",
              "    20% {\n",
              "      border-color: transparent;\n",
              "      border-left-color: var(--fill-color);\n",
              "      border-top-color: var(--fill-color);\n",
              "    }\n",
              "    30% {\n",
              "      border-color: transparent;\n",
              "      border-left-color: var(--fill-color);\n",
              "      border-top-color: var(--fill-color);\n",
              "      border-right-color: var(--fill-color);\n",
              "    }\n",
              "    40% {\n",
              "      border-color: transparent;\n",
              "      border-right-color: var(--fill-color);\n",
              "      border-top-color: var(--fill-color);\n",
              "    }\n",
              "    60% {\n",
              "      border-color: transparent;\n",
              "      border-right-color: var(--fill-color);\n",
              "    }\n",
              "    80% {\n",
              "      border-color: transparent;\n",
              "      border-right-color: var(--fill-color);\n",
              "      border-bottom-color: var(--fill-color);\n",
              "    }\n",
              "    90% {\n",
              "      border-color: transparent;\n",
              "      border-bottom-color: var(--fill-color);\n",
              "    }\n",
              "  }\n",
              "</style>\n",
              "\n",
              "  <script>\n",
              "    async function quickchart(key) {\n",
              "      const quickchartButtonEl =\n",
              "        document.querySelector('#' + key + ' button');\n",
              "      quickchartButtonEl.disabled = true;  // To prevent multiple clicks.\n",
              "      quickchartButtonEl.classList.add('colab-df-spinner');\n",
              "      try {\n",
              "        const charts = await google.colab.kernel.invokeFunction(\n",
              "            'suggestCharts', [key], {});\n",
              "      } catch (error) {\n",
              "        console.error('Error during call to suggestCharts:', error);\n",
              "      }\n",
              "      quickchartButtonEl.classList.remove('colab-df-spinner');\n",
              "      quickchartButtonEl.classList.add('colab-df-quickchart-complete');\n",
              "    }\n",
              "    (() => {\n",
              "      let quickchartButtonEl =\n",
              "        document.querySelector('#df-f25e5bfa-9c6a-4bda-87d8-e2c5198e3acf button');\n",
              "      quickchartButtonEl.style.display =\n",
              "        google.colab.kernel.accessAllowed ? 'block' : 'none';\n",
              "    })();\n",
              "  </script>\n",
              "</div>\n",
              "    </div>\n",
              "  </div>\n"
            ],
            "text/plain": [
              "                                                    embedding  toxin_label\n",
              "protein_id                                                                \n",
              "P_1         [0.5867490350301072, 0.5632674746817872, 0.326...            1\n",
              "P_10        [0.3447602492987731, 0.6437145213066595, 0.379...            1\n",
              "P_100       [0.4865383439899823, 0.508863055280562, 0.6732...            1\n",
              "P_1000      [0.3562618971742902, 0.6768918506364869, 0.492...            1\n",
              "P_1001      [0.5892896446339582, 0.4080563325747942, 0.590...            1"
            ]
          },
          "execution_count": 33,
          "metadata": {},
          "output_type": "execute_result"
        }
      ],
      "source": [
        "emb_np = t5_df['embedding'].apply(lambda x: x.numpy()).tolist()\n",
        "\n",
        "scaler = MinMaxScaler()\n",
        "emb_normalized = scaler.fit_transform(emb_np)\n",
        "\n",
        "t5_df['embedding'] = [row for row in emb_normalized]\n",
        "t5_df.head()"
      ]
    },
    {
      "cell_type": "code",
      "execution_count": null,
      "metadata": {
        "id": "AyD85wmzCQCS"
      },
      "outputs": [],
      "source": [
        "X_train, X_test, y_train, y_test = train_test_split(t5_df['embedding'],\n",
        "                                                    t5_df['toxin_label'],\n",
        "                                                    test_size=0.2,\n",
        "                                                    random_state=42)"
      ]
    },
    {
      "cell_type": "code",
      "execution_count": null,
      "metadata": {
        "id": "lPjN01sNe8c_"
      },
      "outputs": [],
      "source": [
        "# Feature selection using Fisher scores\n",
        "# Select top k features based on Fisher scores\n",
        "\n",
        "X_train = np.vstack(X_train.values)\n",
        "X_test = np.vstack(X_test.values)\n",
        "\n",
        "fisher_scores, _ = f_classif(X_train, y_train)\n",
        "\n",
        "ranked_features = sorted(range(len(fisher_scores)), key=lambda i: fisher_scores[i], reverse=True)\n",
        "\n",
        "# Number of features to select after Fisher score analysis\n",
        "k = 512\n",
        "selected_features = ranked_features[:k]\n",
        "\n",
        "X_train_selected = X_train[:, selected_features]\n",
        "X_test_selected = X_test[:, selected_features]"
      ]
    },
    {
      "cell_type": "markdown",
      "metadata": {
        "id": "gHAETTRLKRT-"
      },
      "source": [
        "## Model Training"
      ]
    },
    {
      "cell_type": "code",
      "execution_count": null,
      "metadata": {
        "colab": {
          "background_save": true,
          "base_uri": "https://localhost:8080/"
        },
        "id": "-_ou2eeBfAn4",
        "outputId": "98792042-0025-4110-97aa-a289b5ac168c"
      },
      "outputs": [
        {
          "name": "stdout",
          "output_type": "stream",
          "text": [
            "Fitting 5 folds for each of 96 candidates, totalling 480 fits\n",
            "[LightGBM] [Warning] min_data_in_leaf is set=50, min_child_samples=20 will be ignored. Current value: min_data_in_leaf=50\n",
            "[LightGBM] [Warning] bagging_fraction is set=0.5, subsample=1.0 will be ignored. Current value: bagging_fraction=0.5\n",
            "[LightGBM] [Warning] min_data_in_leaf is set=50, min_child_samples=20 will be ignored. Current value: min_data_in_leaf=50\n",
            "[LightGBM] [Warning] bagging_fraction is set=0.5, subsample=1.0 will be ignored. Current value: bagging_fraction=0.5\n",
            "[LightGBM] [Info] Number of positive: 6556, number of negative: 6604\n",
            "[LightGBM] [Info] Auto-choosing col-wise multi-threading, the overhead of testing was 0.086029 seconds.\n",
            "You can set `force_col_wise=true` to remove the overhead.\n",
            "[LightGBM] [Info] Total Bins 130560\n",
            "[LightGBM] [Info] Number of data points in the train set: 13160, number of used features: 512\n",
            "[LightGBM] [Info] [binary:BoostFromScore]: pavg=0.498176 -> initscore=-0.007295\n",
            "[LightGBM] [Info] Start training from score -0.007295\n"
          ]
        },
        {
          "data": {
            "text/html": [
              "<style>#sk-container-id-1 {color: black;background-color: white;}#sk-container-id-1 pre{padding: 0;}#sk-container-id-1 div.sk-toggleable {background-color: white;}#sk-container-id-1 label.sk-toggleable__label {cursor: pointer;display: block;width: 100%;margin-bottom: 0;padding: 0.3em;box-sizing: border-box;text-align: center;}#sk-container-id-1 label.sk-toggleable__label-arrow:before {content: \"▸\";float: left;margin-right: 0.25em;color: #696969;}#sk-container-id-1 label.sk-toggleable__label-arrow:hover:before {color: black;}#sk-container-id-1 div.sk-estimator:hover label.sk-toggleable__label-arrow:before {color: black;}#sk-container-id-1 div.sk-toggleable__content {max-height: 0;max-width: 0;overflow: hidden;text-align: left;background-color: #f0f8ff;}#sk-container-id-1 div.sk-toggleable__content pre {margin: 0.2em;color: black;border-radius: 0.25em;background-color: #f0f8ff;}#sk-container-id-1 input.sk-toggleable__control:checked~div.sk-toggleable__content {max-height: 200px;max-width: 100%;overflow: auto;}#sk-container-id-1 input.sk-toggleable__control:checked~label.sk-toggleable__label-arrow:before {content: \"▾\";}#sk-container-id-1 div.sk-estimator input.sk-toggleable__control:checked~label.sk-toggleable__label {background-color: #d4ebff;}#sk-container-id-1 div.sk-label input.sk-toggleable__control:checked~label.sk-toggleable__label {background-color: #d4ebff;}#sk-container-id-1 input.sk-hidden--visually {border: 0;clip: rect(1px 1px 1px 1px);clip: rect(1px, 1px, 1px, 1px);height: 1px;margin: -1px;overflow: hidden;padding: 0;position: absolute;width: 1px;}#sk-container-id-1 div.sk-estimator {font-family: monospace;background-color: #f0f8ff;border: 1px dotted black;border-radius: 0.25em;box-sizing: border-box;margin-bottom: 0.5em;}#sk-container-id-1 div.sk-estimator:hover {background-color: #d4ebff;}#sk-container-id-1 div.sk-parallel-item::after {content: \"\";width: 100%;border-bottom: 1px solid gray;flex-grow: 1;}#sk-container-id-1 div.sk-label:hover label.sk-toggleable__label {background-color: #d4ebff;}#sk-container-id-1 div.sk-serial::before {content: \"\";position: absolute;border-left: 1px solid gray;box-sizing: border-box;top: 0;bottom: 0;left: 50%;z-index: 0;}#sk-container-id-1 div.sk-serial {display: flex;flex-direction: column;align-items: center;background-color: white;padding-right: 0.2em;padding-left: 0.2em;position: relative;}#sk-container-id-1 div.sk-item {position: relative;z-index: 1;}#sk-container-id-1 div.sk-parallel {display: flex;align-items: stretch;justify-content: center;background-color: white;position: relative;}#sk-container-id-1 div.sk-item::before, #sk-container-id-1 div.sk-parallel-item::before {content: \"\";position: absolute;border-left: 1px solid gray;box-sizing: border-box;top: 0;bottom: 0;left: 50%;z-index: -1;}#sk-container-id-1 div.sk-parallel-item {display: flex;flex-direction: column;z-index: 1;position: relative;background-color: white;}#sk-container-id-1 div.sk-parallel-item:first-child::after {align-self: flex-end;width: 50%;}#sk-container-id-1 div.sk-parallel-item:last-child::after {align-self: flex-start;width: 50%;}#sk-container-id-1 div.sk-parallel-item:only-child::after {width: 0;}#sk-container-id-1 div.sk-dashed-wrapped {border: 1px dashed gray;margin: 0 0.4em 0.5em 0.4em;box-sizing: border-box;padding-bottom: 0.4em;background-color: white;}#sk-container-id-1 div.sk-label label {font-family: monospace;font-weight: bold;display: inline-block;line-height: 1.2em;}#sk-container-id-1 div.sk-label-container {text-align: center;}#sk-container-id-1 div.sk-container {/* jupyter's `normalize.less` sets `[hidden] { display: none; }` but bootstrap.min.css set `[hidden] { display: none !important; }` so we also need the `!important` here to be able to override the default hidden behavior on the sphinx rendered scikit-learn.org. See: https://github.com/scikit-learn/scikit-learn/issues/21755 */display: inline-block !important;position: relative;}#sk-container-id-1 div.sk-text-repr-fallback {display: none;}</style><div id=\"sk-container-id-1\" class=\"sk-top-container\"><div class=\"sk-text-repr-fallback\"><pre>GridSearchCV(cv=5, estimator=LGBMClassifier(), n_jobs=5,\n",
              "             param_grid={&#x27;bagging_fraction&#x27;: [0.5, 0.7],\n",
              "                         &#x27;learning_rate&#x27;: [0.01, 0.1], &#x27;max_depth&#x27;: [100, 150],\n",
              "                         &#x27;min_data_in_leaf&#x27;: range(10, 51, 20),\n",
              "                         &#x27;n_estimators&#x27;: [50, 200], &#x27;num_leaves&#x27;: [100, 200]},\n",
              "             verbose=1)</pre><b>In a Jupyter environment, please rerun this cell to show the HTML representation or trust the notebook. <br />On GitHub, the HTML representation is unable to render, please try loading this page with nbviewer.org.</b></div><div class=\"sk-container\" hidden><div class=\"sk-item sk-dashed-wrapped\"><div class=\"sk-label-container\"><div class=\"sk-label sk-toggleable\"><input class=\"sk-toggleable__control sk-hidden--visually\" id=\"sk-estimator-id-1\" type=\"checkbox\" ><label for=\"sk-estimator-id-1\" class=\"sk-toggleable__label sk-toggleable__label-arrow\">GridSearchCV</label><div class=\"sk-toggleable__content\"><pre>GridSearchCV(cv=5, estimator=LGBMClassifier(), n_jobs=5,\n",
              "             param_grid={&#x27;bagging_fraction&#x27;: [0.5, 0.7],\n",
              "                         &#x27;learning_rate&#x27;: [0.01, 0.1], &#x27;max_depth&#x27;: [100, 150],\n",
              "                         &#x27;min_data_in_leaf&#x27;: range(10, 51, 20),\n",
              "                         &#x27;n_estimators&#x27;: [50, 200], &#x27;num_leaves&#x27;: [100, 200]},\n",
              "             verbose=1)</pre></div></div></div><div class=\"sk-parallel\"><div class=\"sk-parallel-item\"><div class=\"sk-item\"><div class=\"sk-label-container\"><div class=\"sk-label sk-toggleable\"><input class=\"sk-toggleable__control sk-hidden--visually\" id=\"sk-estimator-id-2\" type=\"checkbox\" ><label for=\"sk-estimator-id-2\" class=\"sk-toggleable__label sk-toggleable__label-arrow\">estimator: LGBMClassifier</label><div class=\"sk-toggleable__content\"><pre>LGBMClassifier()</pre></div></div></div><div class=\"sk-serial\"><div class=\"sk-item\"><div class=\"sk-estimator sk-toggleable\"><input class=\"sk-toggleable__control sk-hidden--visually\" id=\"sk-estimator-id-3\" type=\"checkbox\" ><label for=\"sk-estimator-id-3\" class=\"sk-toggleable__label sk-toggleable__label-arrow\">LGBMClassifier</label><div class=\"sk-toggleable__content\"><pre>LGBMClassifier()</pre></div></div></div></div></div></div></div></div></div></div>"
            ],
            "text/plain": [
              "GridSearchCV(cv=5, estimator=LGBMClassifier(), n_jobs=5,\n",
              "             param_grid={'bagging_fraction': [0.5, 0.7],\n",
              "                         'learning_rate': [0.01, 0.1], 'max_depth': [100, 150],\n",
              "                         'min_data_in_leaf': range(10, 51, 20),\n",
              "                         'n_estimators': [50, 200], 'num_leaves': [100, 200]},\n",
              "             verbose=1)"
            ]
          },
          "execution_count": 13,
          "metadata": {},
          "output_type": "execute_result"
        }
      ],
      "source": [
        "# Initialize LightGBM classifier\n",
        "# Define hyperparameter grid for optimization\n",
        "# Perform grid search with cross-validation\n",
        "\n",
        "lgbm = lightgbm.LGBMClassifier()\n",
        "\n",
        "# Hyperparameter ranges for grid search\n",
        "lgbm_params = {\n",
        "    'num_leaves': [100, 200],\n",
        "    'n_estimators': [50, 200],\n",
        "    'min_data_in_leaf': range(10, 51, 20),\n",
        "    'max_depth': [100, 150],\n",
        "    'learning_rate': [0.01, 0.1],\n",
        "    'bagging_fraction': [0.5, 0.7]\n",
        "}\n",
        "\n",
        "lgbm_clf = GridSearchCV(\n",
        "    estimator=lgbm,\n",
        "    param_grid=lgbm_params,\n",
        "    cv=5,\n",
        "    n_jobs=5,\n",
        "    verbose=1\n",
        ")\n",
        "\n",
        "lgbm_clf.fit(X_train_selected, y_train)"
      ]
    },
    {
      "cell_type": "code",
      "execution_count": null,
      "metadata": {
        "colab": {
          "base_uri": "https://localhost:8080/"
        },
        "id": "_oKGXM2-DkXY",
        "outputId": "e5164b69-201e-4872-aae7-2c06994a7736"
      },
      "outputs": [
        {
          "data": {
            "text/plain": [
              "{'bagging_fraction': 0.5,\n",
              " 'learning_rate': 0.1,\n",
              " 'max_depth': 100,\n",
              " 'min_data_in_leaf': 50,\n",
              " 'n_estimators': 200,\n",
              " 'num_leaves': 100}"
            ]
          },
          "execution_count": 7,
          "metadata": {},
          "output_type": "execute_result"
        }
      ],
      "source": [
        "lgbm_clf.best_params_"
      ]
    },
    {
      "cell_type": "code",
      "execution_count": null,
      "metadata": {
        "id": "Fxmt-sO42j1x"
      },
      "outputs": [],
      "source": [
        "lgbm_params = {\n",
        "    'num_leaves': 100,\n",
        "    'n_estimators': 200,\n",
        "    'min_data_in_leaf': 50,\n",
        "    'max_depth': 100,\n",
        "    'learning_rate': 0.1,\n",
        "    'bagging_fraction': 0.5\n",
        "}"
      ]
    },
    {
      "cell_type": "code",
      "execution_count": null,
      "metadata": {
        "id": "vHcWQcW41363"
      },
      "outputs": [],
      "source": [
        "lgbm_clf_alternate  = lightgbm.LGBMClassifier(**lgbm_params)\n",
        "lgbm_clf_alternate.fit(X_train_selected, y_train)"
      ]
    },
    {
      "cell_type": "code",
      "execution_count": null,
      "metadata": {
        "colab": {
          "base_uri": "https://localhost:8080/"
        },
        "id": "BrceGK5AnpEv",
        "outputId": "b8f195d6-8a5b-430b-c428-fbba90ce14bc"
      },
      "outputs": [
        {
          "name": "stdout",
          "output_type": "stream",
          "text": [
            "[LightGBM] [Warning] min_data_in_leaf is set=50, min_child_samples=20 will be ignored. Current value: min_data_in_leaf=50\n",
            "[LightGBM] [Warning] bagging_fraction is set=0.5, subsample=1.0 will be ignored. Current value: bagging_fraction=0.5\n",
            "[LightGBM] [Warning] min_data_in_leaf is set=50, min_child_samples=20 will be ignored. Current value: min_data_in_leaf=50\n",
            "[LightGBM] [Warning] bagging_fraction is set=0.5, subsample=1.0 will be ignored. Current value: bagging_fraction=0.5\n"
          ]
        }
      ],
      "source": [
        "y_pred_lgbm = lgbm_clf_alternate.predict(X_test_selected)\n",
        "y_pred_proba = lgbm_clf_alternate.predict_proba(X_test_selected)"
      ]
    },
    {
      "cell_type": "markdown",
      "metadata": {
        "id": "V3ztQaMHKRUA"
      },
      "source": [
        "## Model Evaluation"
      ]
    },
    {
      "cell_type": "code",
      "execution_count": null,
      "metadata": {
        "colab": {
          "base_uri": "https://localhost:8080/"
        },
        "id": "Lncm0SpFn63F",
        "outputId": "e07e61e0-dd5f-41e9-8711-bdae946bf2ab"
      },
      "outputs": [
        {
          "name": "stdout",
          "output_type": "stream",
          "text": [
            "Accuracy: 0.8062418725617685\n",
            "Precision: [0.77806122 0.83554377]\n",
            "Recall: [0.83106267 0.78358209]\n",
            "F1 Score: [0.80368906 0.80872914]\n",
            "AUC 0.8933127279135658\n"
          ]
        }
      ],
      "source": [
        "# Calculate and display performance metrics\n",
        "\n",
        "accuracy = accuracy_score(y_test, y_pred_lgbm)\n",
        "precision, recall, f1, _ = precision_recall_fscore_support(y_test, y_pred_lgbm)\n",
        "auc = roc_auc_score(y_test , y_pred_proba[:,1])\n",
        "print(\"Accuracy:\", accuracy)\n",
        "print(\"Precision:\", precision)\n",
        "print(\"Recall:\", recall)\n",
        "print(\"F1 Score:\", f1)\n",
        "print(\"AUC\", auc)"
      ]
    },
    {
      "cell_type": "code",
      "execution_count": null,
      "metadata": {
        "colab": {
          "base_uri": "https://localhost:8080/"
        },
        "id": "PM5PkYpQZOmh",
        "outputId": "b13c0ff8-a0e7-4f9b-b381-bcd54bd9b98d"
      },
      "outputs": [
        {
          "data": {
            "text/plain": [
              "0.6141246554071792"
            ]
          },
          "execution_count": 40,
          "metadata": {},
          "output_type": "execute_result"
        }
      ],
      "source": [
        "from sklearn.metrics import matthews_corrcoef\n",
        "matthews_corrcoef(y_test, y_pred_lgbm)"
      ]
    },
    {
      "cell_type": "code",
      "execution_count": null,
      "metadata": {
        "id": "8rECGohSmKNW"
      },
      "outputs": [],
      "source": [
        "sensitivity = make_scorer(recall_score, average='binary', pos_label=1)\n",
        "specificty = make_scorer(recall_score, average='binary', pos_label=0)\n",
        "\n",
        "scoring = {'accuracy':'accuracy', 'sensitivity':sensitivity, 'specificty':specificty, 'AUC':'roc_auc', 'MCC':'matthews_corrcoef'}\n",
        "scores = cross_validate(lgbm_clf_alternate , X_train_selected, y_train, scoring=scoring)"
      ]
    },
    {
      "cell_type": "code",
      "execution_count": null,
      "metadata": {
        "colab": {
          "base_uri": "https://localhost:8080/"
        },
        "id": "FeUlvt1-d_d5",
        "outputId": "abecd7f8-c3cc-4458-c512-c98d7a4a8055"
      },
      "outputs": [
        {
          "name": "stdout",
          "output_type": "stream",
          "text": [
            "accuracy: 0.8148994994835942\n",
            "sensitivity: 0.7778421921139482\n",
            "specificty: 0.850993486684805\n",
            "AUC: 0.8945853295803825\n",
            "MCC:0.6311112916426561\n"
          ]
        }
      ],
      "source": [
        "# Define scoring metrics for cross-validation\n",
        "print( 'accuracy: ' + str(scores['test_accuracy'].mean()))\n",
        "print( 'sensitivity: ' + str(scores['test_sensitivity'].mean()))\n",
        "print( 'specificty: ' + str(scores['test_specificty'].mean()))\n",
        "print( 'AUC: ' + str(scores['test_AUC'].mean()))\n",
        "print( 'MCC:' + str(scores['test_MCC'].mean()))"
      ]
    }
  ],
  "metadata": {
    "accelerator": "GPU",
    "colab": {
      "gpuType": "T4",
      "provenance": [],
      "include_colab_link": true
    },
    "kernelspec": {
      "display_name": "Python 3",
      "name": "python3"
    },
    "language_info": {
      "name": "python"
    }
  },
  "nbformat": 4,
  "nbformat_minor": 0
}